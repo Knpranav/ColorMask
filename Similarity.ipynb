{
 "cells": [
  {
   "cell_type": "code",
   "execution_count": 2,
   "metadata": {},
   "outputs": [
    {
     "name": "stdout",
     "output_type": "stream",
     "text": [
      "Number of similar frames ahead: 20\n",
      "Number of similar frames behind: 18\n"
     ]
    }
   ],
   "source": [
    "import cv2\n",
    "import numpy as np\n",
    "from skimage.metrics import structural_similarity as compare_ssim\n",
    "\n",
    "# Load the video\n",
    "video_path = 'Jailer.mp4'\n",
    "cap = cv2.VideoCapture(video_path)\n",
    "\n",
    "def calculate_ssim(frame1, frame2):\n",
    "    # Convert frames to grayscale for SSIM calculation\n",
    "    gray_frame1 = cv2.cvtColor(frame1, cv2.COLOR_BGR2GRAY)\n",
    "    gray_frame2 = cv2.cvtColor(frame2, cv2.COLOR_BGR2GRAY)\n",
    "    \n",
    "    # Calculate SSIM\n",
    "    ssim = compare_ssim(gray_frame1, gray_frame2)\n",
    "    return ssim\n",
    "\n",
    "def find_similar_frames(video, ref_frame_number, window_size, ssim_threshold):\n",
    "    similar_frames_info = []  # List to store info about similar frames\n",
    "    ref_frame = None\n",
    "\n",
    "    # Read and set the reference frame\n",
    "    for i in range(ref_frame_number):\n",
    "        _, ref_frame = video.read()\n",
    "\n",
    "    for i in range(ref_frame_number - window_size, ref_frame_number + window_size + 1):\n",
    "        if i != ref_frame_number:\n",
    "            # Read the current frame\n",
    "            _, current_frame = video.read()\n",
    "            \n",
    "            if current_frame is not None:\n",
    "                ssim = calculate_ssim(ref_frame, current_frame)\n",
    "                \n",
    "                if ssim >= ssim_threshold:\n",
    "                    # Store information about the similar frame and its position\n",
    "                    similar_frames_info.append((i, ssim))\n",
    "\n",
    "    return similar_frames_info\n",
    "\n",
    "# Define parameters\n",
    "reference_frame_number = 826 # Replace with your desired reference frame number\n",
    "window_size = 20  # Look at frames within +/- 25 frames of the reference frame\n",
    "ssim_threshold = 0.6  # Adjust this threshold based on your needs\n",
    "\n",
    "similar_frames_info = find_similar_frames(cap, reference_frame_number, window_size, ssim_threshold)\n",
    "\n",
    "# Count similar frames ahead and behind the reference frame\n",
    "similar_frames_ahead = sum(1 for frame_num, _ in similar_frames_info if frame_num > reference_frame_number)\n",
    "similar_frames_behind = len(similar_frames_info) - similar_frames_ahead\n",
    "\n",
    "print(f\"Number of similar frames ahead: {similar_frames_ahead}\")\n",
    "print(f\"Number of similar frames behind: {similar_frames_behind}\")\n",
    "\n",
    "# Release the video capture object\n",
    "cap.release()\n"
   ]
  }
 ],
 "metadata": {
  "kernelspec": {
   "display_name": "base",
   "language": "python",
   "name": "python3"
  },
  "language_info": {
   "codemirror_mode": {
    "name": "ipython",
    "version": 3
   },
   "file_extension": ".py",
   "mimetype": "text/x-python",
   "name": "python",
   "nbconvert_exporter": "python",
   "pygments_lexer": "ipython3",
   "version": "3.9.13"
  },
  "orig_nbformat": 4
 },
 "nbformat": 4,
 "nbformat_minor": 2
}
