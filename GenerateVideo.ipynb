{
 "cells": [
  {
   "cell_type": "code",
   "execution_count": 3,
   "metadata": {},
   "outputs": [],
   "source": [
    "import numpy as np\n",
    "import cv2\n",
    "import matplotlib.pyplot as plt \n",
    "import numpy as np\n",
    "import time\n",
    "\n",
    "VFILE = \"Jailer.mp4\""
   ]
  },
  {
   "cell_type": "code",
   "execution_count": 7,
   "metadata": {},
   "outputs": [],
   "source": [
    "def getColorChangedFrame(frame):\n",
    "    img = frame\n",
    "    img = cv2.cvtColor(frame,cv2.COLOR_BGR2RGB)\n",
    "    img_hsv = cv2.cvtColor(img, cv2.COLOR_RGB2HSV)\n",
    "    \n",
    "    #plt.imshow(im)\n",
    "\n",
    "    lowerColor = np.array([40,70,0])\n",
    "    upperColor = np.array([80,255,255])\n",
    "   \n",
    "    #changed name from mask to mask_hue\n",
    "    mask_hue = cv2.inRange(img_hsv, lowerColor, upperColor)\n",
    "    hue = img_hsv[:,:,0]\n",
    "\n",
    "    #mask_hue = cv2.inRange(hue, min_hue, max_hue)\n",
    "    #plt.imshow(mask_hue, cmap='gray')\n",
    "    \n",
    "    # modfiy hue values satisfying the condition\n",
    "    change =  + 10 \n",
    "    #hue[mask > 0] = hue[mask > 0] - change\n",
    "    hue[mask_hue > 0] = hue[mask_hue > 0] + change\n",
    "\n",
    "    # assign the modified hue channel back to the hsv image\n",
    "    img_hsv[:,:,0] = hue\n",
    "\n",
    "    im = cv2.cvtColor(img_hsv, cv2.COLOR_HSV2BGR)\n",
    "    return im"
   ]
  },
  {
   "cell_type": "code",
   "execution_count": 8,
   "metadata": {},
   "outputs": [],
   "source": [
    "def get_frames(VFILE):\n",
    "    video = cv2.VideoCapture(VFILE)\n",
    "    counter = 0\n",
    "    while video.isOpened():\n",
    "        \n",
    "        ret, frame = video.read() #if a frame exists / frame\n",
    "        if ret:\n",
    "            if counter > 826 - 18  and counter < 826 + 20: # Similarity.ipynb has to specify frames here\n",
    "                yield getColorChangedFrame(frame)\n",
    "            else:\n",
    "                yield frame\n",
    "            counter += 1\n",
    "        else:\n",
    "            break\n",
    "    video.release()#releasing all dependencies\n",
    "    yield None #returning control to what called it\n",
    "\n",
    "def get_frame(filename, index):\n",
    "    counter = 0\n",
    "    video = cv2.VideoCapture(filename)\n",
    "    while video.isOpened():\n",
    "        ret, frame = video.read() #if a frame exists / frame\n",
    "        if ret:\n",
    "            if counter == index:\n",
    "                return frame\n",
    "            counter += 1\n",
    "        else:\n",
    "            break\n",
    "    video.release()#releasing all dependencies\n",
    "    return None #returning control to what called it"
   ]
  },
  {
   "cell_type": "code",
   "execution_count": 9,
   "metadata": {},
   "outputs": [
    {
     "name": "stdout",
     "output_type": "stream",
     "text": [
      "Shape of Frame  (720, 1280, 3)\n"
     ]
    }
   ],
   "source": [
    "#img = cv2.imread('rubixImage.jpg')\n",
    "frame = get_frame(VFILE, 88)\n",
    "print(\"Shape of Frame \",frame.shape)\n",
    "#plt.imshow(cv2.cvtColor(getColorChangedFrame(img), cv2.COLOR_BGR2RGB))"
   ]
  },
  {
   "cell_type": "code",
   "execution_count": 10,
   "metadata": {},
   "outputs": [
    {
     "name": "stdout",
     "output_type": "stream",
     "text": [
      "Moviepy - Building video NewOutput+10.mp4.\n",
      "Moviepy - Writing video NewOutput+10.mp4\n",
      "\n"
     ]
    },
    {
     "name": "stderr",
     "output_type": "stream",
     "text": [
      "                                                                \r"
     ]
    },
    {
     "name": "stdout",
     "output_type": "stream",
     "text": [
      "Moviepy - Done !\n",
      "Moviepy - video ready NewOutput+10.mp4\n"
     ]
    }
   ],
   "source": [
    "\n",
    "\n",
    "import cv2\n",
    "from moviepy.editor import ImageSequenceClip\n",
    "counter = 0\n",
    "frames_list = []\n",
    "#fourcc = cv2.VideoWriter_fourcc(*'XVID')\n",
    "#fourcc = cv2.VideoWriter_fourcc('M','P','4','V') #four Byte code used to specify video codec\n",
    "#video_out = cv2.VideoWriter(\"new.avi\", fourcc, 30, (2160, 3840)) # newName, fourcc code, frames/sec, resolution of vid\n",
    "\n",
    "for frame in get_frames(VFILE):\n",
    "    if frame is None:\n",
    "        break\n",
    "    # Modify the frame to get the \"changedFrame\"\n",
    "    #changedFrame = getColorChangedFrame(frame)\n",
    "\n",
    "    cv2.putText(frame,\n",
    "                text=str(counter),\n",
    "                org=(100, 100),\n",
    "                fontFace=cv2.FONT_HERSHEY_SIMPLEX,\n",
    "                fontScale=1,\n",
    "                color=(255, 0, 255),\n",
    "                thickness=2)\n",
    "    frames_list.append(cv2.cvtColor(frame, cv2.COLOR_BGR2RGB))\n",
    "    #video_out.write(frame)  # Write the modified frame to the video\n",
    "\n",
    "    cv2.namedWindow(\"Frame\", cv2.WINDOW_NORMAL)\n",
    "    cv2.imshow('Frame',frame)\n",
    "    if cv2.waitKey(10) == 27:\n",
    "        break\n",
    "    counter += 1\n",
    "\n",
    "cv2.destroyAllWindows()\n",
    "video_clip = ImageSequenceClip(frames_list, fps=24)  # Set the desired frame rate (fps)\n",
    "\n",
    "# Save the video clip to a file\n",
    "video_clip.write_videofile(\"NewOutput+10.mp4\", codec='libx264')\n"
   ]
  },
  {
   "cell_type": "code",
   "execution_count": 1,
   "metadata": {},
   "outputs": [
    {
     "ename": "NameError",
     "evalue": "name 'cv2' is not defined",
     "output_type": "error",
     "traceback": [
      "\u001b[1;31m---------------------------------------------------------------------------\u001b[0m",
      "\u001b[1;31mNameError\u001b[0m                                 Traceback (most recent call last)",
      "\u001b[1;32mc:\\Users\\pranav\\Desktop\\ColorMask\\GenerateVideo.ipynb Cell 6\u001b[0m in \u001b[0;36m1\n\u001b[1;32m----> <a href='vscode-notebook-cell:/c%3A/Users/pranav/Desktop/ColorMask/GenerateVideo.ipynb#W5sZmlsZQ%3D%3D?line=0'>1</a>\u001b[0m video \u001b[39m=\u001b[39m cv2\u001b[39m.\u001b[39mVideoCapture(VFILE)\n\u001b[0;32m      <a href='vscode-notebook-cell:/c%3A/Users/pranav/Desktop/ColorMask/GenerateVideo.ipynb#W5sZmlsZQ%3D%3D?line=1'>2</a>\u001b[0m frameCount \u001b[39m=\u001b[39m \u001b[39mint\u001b[39m(video\u001b[39m.\u001b[39mget(cv2\u001b[39m.\u001b[39mCAP_PROP_FRAME_COUNT))\n\u001b[0;32m      <a href='vscode-notebook-cell:/c%3A/Users/pranav/Desktop/ColorMask/GenerateVideo.ipynb#W5sZmlsZQ%3D%3D?line=2'>3</a>\u001b[0m video\u001b[39m.\u001b[39mrelease()\n",
      "\u001b[1;31mNameError\u001b[0m: name 'cv2' is not defined"
     ]
    }
   ],
   "source": [
    "video = cv2.VideoCapture(VFILE)\n",
    "frameCount = int(video.get(cv2.CAP_PROP_FRAME_COUNT))\n",
    "video.release()\n",
    "print(\"Frame Count : \",frameCount)"
   ]
  }
 ],
 "metadata": {
  "kernelspec": {
   "display_name": "base",
   "language": "python",
   "name": "python3"
  },
  "language_info": {
   "codemirror_mode": {
    "name": "ipython",
    "version": 3
   },
   "file_extension": ".py",
   "mimetype": "text/x-python",
   "name": "python",
   "nbconvert_exporter": "python",
   "pygments_lexer": "ipython3",
   "version": "3.9.13"
  },
  "orig_nbformat": 4
 },
 "nbformat": 4,
 "nbformat_minor": 2
}
