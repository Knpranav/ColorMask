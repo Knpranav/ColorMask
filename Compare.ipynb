{
 "cells": [
  {
   "cell_type": "code",
   "execution_count": 1,
   "metadata": {},
   "outputs": [],
   "source": [
    "import numpy as np\n",
    "import cv2\n",
    "import matplotlib.pyplot as plt \n",
    "import numpy as np\n",
    "from moviepy.editor import *"
   ]
  },
  {
   "cell_type": "code",
   "execution_count": 3,
   "metadata": {},
   "outputs": [],
   "source": [
    "import cv2\n",
    "import numpy as np\n",
    "\n",
    "def find_frame_with_highest_green_intensity(video):\n",
    "    # Initialize variables to keep track of the highest green intensity and the corresponding frame\n",
    "    highest_green_intensity = 0\n",
    "    frame_with_highest_green = None\n",
    "    frame_number_of_highest_green = -1\n",
    "    timestamp_of_highest_green = 0.0\n",
    "\n",
    "    frame_number = 0\n",
    "    while True:\n",
    "        success, frame = video.read()\n",
    "\n",
    "        if not success:\n",
    "            break\n",
    "\n",
    "        # Convert the frame to the HSV color space\n",
    "        hsv_frame = cv2.cvtColor(frame, cv2.COLOR_BGR2HSV)\n",
    "\n",
    "        # Define the lower and upper bounds for green in HSV\n",
    "        lower_green = np.array([40, 70, 0])\n",
    "        upper_green = np.array([70, 255, 255])\n",
    "\n",
    "        # Create a mask for green regions in the frame\n",
    "        mask = cv2.inRange(hsv_frame, lower_green, upper_green)\n",
    "\n",
    "        # Calculate the number of green pixels in the frame\n",
    "        green_pixel_count = np.sum(mask == 255)\n",
    "\n",
    "        # Update the highest green intensity and corresponding frame\n",
    "        if green_pixel_count > highest_green_intensity:\n",
    "            highest_green_intensity = green_pixel_count\n",
    "            frame_with_highest_green = frame.copy()\n",
    "            timestamp_of_highest_green = video.get(cv2.CAP_PROP_POS_MSEC) / 1000.0\n",
    "            frame_number_of_highest_green = frame_number\n",
    "\n",
    "        cv2.namedWindow(\"Video\", cv2.WINDOW_NORMAL)\n",
    "        cv2.imshow('Video', frame)\n",
    "\n",
    "        if cv2.waitKey(1) == ord('q'):\n",
    "            break\n",
    "\n",
    "        frame_number += 1\n",
    "\n",
    "    video.release()\n",
    "    cv2.destroyAllWindows()\n",
    "\n",
    "    # Display the frame with the highest green intensity\n",
    "    if frame_with_highest_green is not None:\n",
    "        print(f\"Timestamp of Frame with Highest Green Intensity: {timestamp_of_highest_green:.2f} seconds\")\n",
    "        cv2.namedWindow(\"Frame with Highest Green Intensity\", cv2.WINDOW_NORMAL)\n",
    "        cv2.imshow('Frame with Highest Green Intensity', frame_with_highest_green)\n",
    "        print(f\"Frame number of Frame with Highest Green Intensity: {frame_number_of_highest_green}\")\n",
    "        cv2.waitKey(0)\n",
    "        cv2.destroyAllWindows()\n",
    "        return frame_with_highest_green\n"
   ]
  },
  {
   "cell_type": "code",
   "execution_count": 5,
   "metadata": {},
   "outputs": [
    {
     "name": "stdout",
     "output_type": "stream",
     "text": [
      "Timestamp of Frame with Highest Green Intensity: 35.73 seconds\n",
      "Frame number of Frame with Highest Green Intensity: 1073\n"
     ]
    }
   ],
   "source": [
    "# Specify Video to find the frame with highest amount of specified Color\n",
    "#video_path = 'NewPirated+10.mp4'\n",
    "video_path = 'NewPirated+10.mp4'\n",
    "video = cv2.VideoCapture(video_path)\n",
    "\n",
    "# Returns the Frame with Highest Color\n",
    "gFrame = find_frame_with_highest_green_intensity(video)\n",
    "\n",
    "# Close the video file\n",
    "video.release()"
   ]
  },
  {
   "cell_type": "code",
   "execution_count": 9,
   "metadata": {},
   "outputs": [
    {
     "data": {
      "text/plain": [
       "True"
      ]
     },
     "execution_count": 9,
     "metadata": {},
     "output_type": "execute_result"
    }
   ],
   "source": [
    "# Save the Frame with the highest Color\n",
    "cv2.imwrite(\"NewGPirated+10.jpg\",gFrame)"
   ]
  },
  {
   "cell_type": "code",
   "execution_count": 2,
   "metadata": {},
   "outputs": [
    {
     "name": "stdout",
     "output_type": "stream",
     "text": [
      "Moviepy - Building video aoi.mp4.\n",
      "MoviePy - Writing audio in aoiTEMP_MPY_wvf_snd.mp3\n"
     ]
    },
    {
     "name": "stderr",
     "output_type": "stream",
     "text": [
      "                                                                   \r"
     ]
    },
    {
     "name": "stdout",
     "output_type": "stream",
     "text": [
      "MoviePy - Done.\n",
      "Moviepy - Writing video aoi.mp4\n",
      "\n"
     ]
    },
    {
     "name": "stderr",
     "output_type": "stream",
     "text": [
      "                                                              \r"
     ]
    },
    {
     "name": "stdout",
     "output_type": "stream",
     "text": [
      "Moviepy - Done !\n",
      "Moviepy - video ready aoi.mp4\n"
     ]
    }
   ],
   "source": [
    "from moviepy.editor import *\n",
    "vp = 'JailerCam.mp4'\n",
    "vid = VideoFileClip(vp)\n",
    "vid = vid.subclip(5,20)\n",
    "vid.write_videofile(\"aoi.mp4\")\n",
    "\n"
   ]
  },
  {
   "cell_type": "code",
   "execution_count": 23,
   "metadata": {},
   "outputs": [
    {
     "name": "stdout",
     "output_type": "stream",
     "text": [
      "Timestamp of Frame with Highest Green Intensity: 10.21 seconds\n",
      "Frame number of Frame with Highest Green Intensity: 245\n"
     ]
    }
   ],
   "source": [
    "video_path = 'Green+10.mp4'\n",
    "video = cv2.VideoCapture(video_path)\n",
    "# Call the function with the video file object\n",
    "g = find_frame_with_highest_green_intensity(video)\n",
    "# Close the video file\n",
    "video.release()"
   ]
  },
  {
   "cell_type": "code",
   "execution_count": 24,
   "metadata": {},
   "outputs": [
    {
     "data": {
      "text/plain": [
       "True"
      ]
     },
     "execution_count": 24,
     "metadata": {},
     "output_type": "execute_result"
    }
   ],
   "source": [
    "cv2.imwrite(\"Original+10.jpg\",g)"
   ]
  }
 ],
 "metadata": {
  "kernelspec": {
   "display_name": "base",
   "language": "python",
   "name": "python3"
  },
  "language_info": {
   "codemirror_mode": {
    "name": "ipython",
    "version": 3
   },
   "file_extension": ".py",
   "mimetype": "text/x-python",
   "name": "python",
   "nbconvert_exporter": "python",
   "pygments_lexer": "ipython3",
   "version": "3.9.13"
  },
  "orig_nbformat": 4
 },
 "nbformat": 4,
 "nbformat_minor": 2
}
